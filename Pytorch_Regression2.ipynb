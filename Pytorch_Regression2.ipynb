{
 "cells": [
  {
   "cell_type": "code",
   "execution_count": null,
   "metadata": {},
   "outputs": [],
   "source": [
    "#GPU intro\n"
   ]
  },
  {
   "cell_type": "code",
   "execution_count": 1,
   "metadata": {},
   "outputs": [
    {
     "name": "stdout",
     "output_type": "stream",
     "text": [
      "(49999, 784)\n",
      "(49999,)\n",
      "(10000, 784)\n",
      "(10000,)\n",
      "(10000, 784)\n",
      "(10000,)\n"
     ]
    }
   ],
   "source": [
    "import torch\n",
    "import torch.nn as nn\n",
    "import numpy as np\n",
    "\n",
    "training_data = np.loadtxt(\"C:\\\\Users\\\\RICHARDSON\\\\Desktop\\\\mnist_train.csv\", delimiter = ',', dtype=np.float32)\n",
    "test_data = np.loadtxt(\"C:\\\\Users\\\\RICHARDSON\\\\Desktop\\\\mnist_test.csv\", delimiter = ',', dtype=np.float32)\n",
    "\n",
    "train_X = training_data[:49999, 1:]\n",
    "train_y = training_data[:49999, 0]\n",
    "\n",
    "val_X = training_data[50000:, 1:]\n",
    "val_y = training_data[50000:, 0]\n",
    "\n",
    "test_X = test_data[:, 1:]\n",
    "test_y = test_data[:, 0]\n",
    "\n",
    "print(train_X.shape)\n",
    "print(train_y.shape)\n",
    "print(val_X.shape)\n",
    "print(val_y.shape)\n",
    "print(test_X.shape)\n",
    "print(test_y.shape)\n",
    "\n",
    "#import matplotlib.pyplot as plt\n",
    "#img = training_data[0][1:].reshape(28,28)\n",
    "#plt.imshow(img, cmap='gray')\n",
    "#plt.show()      "
   ]
  },
  {
   "cell_type": "code",
   "execution_count": 8,
   "metadata": {},
   "outputs": [],
   "source": [
    "import torch\n",
    "import torch.nn as nn\n",
    "\n",
    "class MLPModel(nn.Module):\n",
    "    def __init__(self):\n",
    "        super(MLPModel, self).__init__()\n",
    "        self.linear1 = nn.Linear(784, 100)\n",
    "        self.linear2 = nn.Linear(100, 100)\n",
    "        self.linear3 = nn.Linear(100, 100)\n",
    "        self.linear4 = nn.Linear(100, 100)\n",
    "        self.linear5 = nn.Linear(100, 100)\n",
    "        self.linear6 = nn.Linear(100, 100)\n",
    "        self.linear7 = nn.Linear(100, 10)\n",
    "        self.relu = nn.ReLU()\n",
    "        \n",
    "    def forward(self,x):\n",
    "        x = self.linear1(x)\n",
    "        x = self.linear2(x)\n",
    "        x = self.linear3(x)\n",
    "        x = self.linear4(x)\n",
    "        x = self.linear5(x)\n",
    "        x = self.linear6(x)\n",
    "        x = self.linear7(x)\n",
    "        x = self.relu(x)\n",
    "        return x"
   ]
  },
  {
   "cell_type": "code",
   "execution_count": 9,
   "metadata": {},
   "outputs": [],
   "source": [
    "cls_loss = nn.CrossEntropyLoss()"
   ]
  },
  {
   "cell_type": "code",
   "execution_count": 10,
   "metadata": {},
   "outputs": [],
   "source": [
    "import torch.optim as optim\n",
    "from sklearn.metrics import accuracy_score\n",
    "import matplotlib.pyplot as plt\n",
    "\n",
    "# ====== Construct Model ====== #\n",
    "# model = LinearModel()\n",
    "# print(model.linear.weight)\n",
    "# print(model.linear.bias)\n",
    "\n",
    "model = MLPModel() # Model을 생성해줍니다.\n",
    "#print('{} parameters'.format(sum(p.numel() for p in model.parameters() if p.requires_grad))) # 복잡해보이지만 간단히 모델 내에 학습을 당할 파라미터 수를 카운팅하는 코드입니다.\n",
    "\n",
    "# ===== Construct Optimizer ====== #\n",
    "lr = 0.005 # Learning Rate를 하나 정해줍니다. (원할한 학습을 위해 손을 많이 탑니다)\n",
    "optimizer = optim.SGD(model.parameters(), lr=lr) # Optimizer를 생성해줍니다.\n",
    "\n",
    "# 매 학습 단계에서의 epoch값과 그 때의 loss 값을 저장할 리스트를 만들어줍시다.\n",
    "list_epoch = [] \n",
    "list_train_loss = []\n",
    "list_val_loss = []\n",
    "list_acc = []\n",
    "list_acc_epoch = []\n",
    "\n",
    "\n",
    "epoch = 400 # 학습 횟수(epoch)을 지정해줍시다.\n",
    "for i in range(epoch):\n",
    "    \n",
    "    # ====== Train ====== #\n",
    "    model.train() # model을 train 모드로 세팅합니다. 반대로 향후 모델을 평가할 때는 eval() 모드로 변경할 겁니다 (나중 실습에서 쓸 겁니다)\n",
    "    optimizer.zero_grad() # optimizer에 남아있을 수도 있는 잔여 그라디언트를 0으로 다 초기화해줍니다.\n",
    "    \n",
    "    input_x = torch.Tensor(train_X)\n",
    "    true_y = torch.Tensor(train_y).long()\n",
    "    pred_y = model(input_x)\n",
    "    #print(input_x.shape, true_y.shape, pred_y.shape) # 각 인풋과 아웃풋의 차원을 체크해봅니다.\n",
    "    \n",
    "    loss = cls_loss(pred_y.squeeze(), true_y)\n",
    "    loss.backward() # backward()를 통해서 그라디언트를 구해줍니다.\n",
    "    optimizer.step() # step()을 통해서 그라디언틀르 바탕으로 파라미터를 업데이트 해줍니다. \n",
    "    list_epoch.append(i)\n",
    "    list_train_loss.append(loss.detach().numpy())\n",
    "    \n",
    "    \n",
    "    # ====== Validation ====== #\n",
    "    model.eval()\n",
    "    optimizer.zero_grad()\n",
    "    input_x = torch.Tensor(val_X)\n",
    "    true_y = torch.Tensor(val_y).long()\n",
    "    pred_y = model(input_x)   \n",
    "    loss = cls_loss(pred_y.squeeze(), true_y)\n",
    "    list_val_loss.append(loss.detach().numpy())\n",
    "    \n",
    "\n",
    "    # ====== Evaluation ======= #\n",
    "    if i % 20 == 0: # 200회의 학습마다 실제 데이터 분포와 모델이 예측한 분포를 그려봅니다.\n",
    "        \n",
    "        # ====== Calculate Accuracy ====== #\n",
    "        model.eval()\n",
    "        optimizer.zero_grad()\n",
    "        input_x = torch.Tensor(test_X)\n",
    "        true_y = torch.Tensor(test_y)\n",
    "        pred_y = model(input_x).detach().max(dim=1)[1].numpy() \n",
    "        acc = accuracy_score(true_y, pred_y) # sklearn 쪽 함수들은 true_y 가 먼저, pred_y가 나중에 인자로 들어가는 것에 주의합시다\n",
    "        list_acc.append(acc)\n",
    "        list_acc_epoch.append(i)\n",
    "\n",
    "        #fig = plt.figure(figsize=(15,5))\n",
    "        \n",
    "        # ====== True Y Scattering ====== #\n",
    "        #ax1 = fig.add_subplot(1, 3, 1)\n",
    "        #ax1.scatter(test_X[:, 0], test_X[:, 1], c=test_y)\n",
    "        #ax1.set_xlabel('x1')\n",
    "        #ax1.set_ylabel('x2')\n",
    "        #ax1.set_title('True test y')\n",
    "        \n",
    "        # ====== Predicted Y Scattering ====== #\n",
    "        #ax2 = fig.add_subplot(1, 3, 2)\n",
    "        #ax2.scatter(test_X[:, 0], test_X[:, 1], c=pred_y)\n",
    "        #ax2.set_xlabel('x1')\n",
    "        #ax2.set_ylabel('x2')\n",
    "        #ax2.set_title('Predicted test y')\n",
    "        \n",
    "        # ====== Just for Visualizaing with High Resolution ====== #\n",
    "        #input_x = torch.Tensor(train_X)\n",
    "        #pred_y = model(input_x).detach().max(dim=1)[1].numpy() \n",
    "        \n",
    "        #ax3 = fig.add_subplot(1, 3, 3)\n",
    "        #ax3.scatter(train_X[:, 0], train_X[:, 1], c=pred_y)\n",
    "        #ax3.set_xlabel('x1')\n",
    "        #ax3.set_ylabel('x2')\n",
    "        #ax3.set_title('Prediction on train set')\n",
    "\n",
    "        #plt.show()\n",
    "        #print('Epoch: ', i,  'Accuracy: ', acc*100, '%')"
   ]
  },
  {
   "cell_type": "code",
   "execution_count": 11,
   "metadata": {},
   "outputs": [
    {
     "data": {
      "image/png": "[encoded data removed]",
      "text/plain": [
       "<Figure size 1080x360 with 2 Axes>"
      ]
     },
     "metadata": {
      "needs_background": "light"
     },
     "output_type": "display_data"
    }
   ],
   "source": [
    "fig = plt.figure(figsize=(15,5))\n",
    "\n",
    "# ====== Loss Fluctuation ====== #\n",
    "ax1 = fig.add_subplot(1, 2, 1)\n",
    "ax1.plot(list_epoch, list_train_loss, label='train_loss')\n",
    "ax1.plot(list_epoch, list_val_loss, '--', label='val_loss')\n",
    "ax1.set_xlabel('epoch')\n",
    "ax1.set_ylabel('loss')\n",
    "ax1.grid()\n",
    "ax1.legend()\n",
    "ax1.set_title('epoch vs loss')\n",
    "\n",
    "# ====== Metric Fluctuation ====== #\n",
    "ax2 = fig.add_subplot(1, 2, 2)\n",
    "ax2.plot(list_acc_epoch, list_acc, marker='x', label='Accuracy metric')\n",
    "ax2.set_xlabel('epoch')\n",
    "ax2.set_ylabel('Acc')\n",
    "ax2.grid()\n",
    "ax2.legend()\n",
    "ax2.set_title('epoch vs Accuracy')\n",
    "\n",
    "plt.show()"
   ]
  },
  {
   "cell_type": "code",
   "execution_count": null,
   "metadata": {},
   "outputs": [],
   "source": []
  }
 ],
 "metadata": {
  "kernelspec": {
   "display_name": "Python 3",
   "language": "python",
   "name": "python3"
  },
  "language_info": {
   "codemirror_mode": {
    "name": "ipython",
    "version": 3
   },
   "file_extension": ".py",
   "mimetype": "text/x-python",
   "name": "python",
   "nbconvert_exporter": "python",
   "pygments_lexer": "ipython3",
   "version": "3.7.1"
  }
 },
 "nbformat": 4,
 "nbformat_minor": 2
}
